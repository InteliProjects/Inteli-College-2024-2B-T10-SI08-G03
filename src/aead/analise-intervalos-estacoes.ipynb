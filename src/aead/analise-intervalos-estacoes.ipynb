{
 "cells": [
  {
   "cell_type": "code",
   "execution_count": null,
   "metadata": {},
   "outputs": [],
   "source": [
    "import pandas as pd\n",
    "import matplotlib.pyplot as plt\n",
    "import numpy as np"
   ]
  },
  {
   "cell_type": "markdown",
   "metadata": {},
   "source": [
    "### DMO_ANL_VW_ESTACAO.csv"
   ]
  },
  {
   "cell_type": "markdown",
   "metadata": {},
   "source": [
    "Esta célula é responsável por carregar os dados de um arquivo CSV contendo informações sobre estações. O arquivo DMO_ANL_VW_ESTACAO.csv é lido e transformado em um DataFrame do Pandas."
   ]
  },
  {
   "cell_type": "code",
   "execution_count": null,
   "metadata": {},
   "outputs": [],
   "source": [
    "class StationDataLoader:\n",
    "    def __init__(self, file_path):\n",
    "        self.file_path = file_path\n",
    "        self.data = None\n",
    "    \n",
    "    def load_data(self):\n",
    "        self.data = pd.read_csv(self.file_path)\n",
    "        return self.data\n",
    "\n",
    "station_loader = StationDataLoader('DMO_ANL_VW_ESTACAO.csv')\n",
    "station_data = station_loader.load_data()"
   ]
  },
  {
   "cell_type": "markdown",
   "metadata": {},
   "source": [
    "Esta célula fornece uma visão geral dos dados carregados do arquivo CSV. Ela mostra a estrutura dos dados, incluindo:\n",
    "- Shape: Os dados têm 97 linhas e 4 colunas.\n",
    "- Colunas: As colunas presentes são ID_ESTACAO, TX_PREFIXO, TX_NOME e CD_ESTACAO_BU."
   ]
  },
  {
   "cell_type": "code",
   "execution_count": null,
   "metadata": {},
   "outputs": [],
   "source": [
    "class StationDataAnalyzer:\n",
    "    def __init__(self, data):\n",
    "        self.data = data\n",
    "    \n",
    "    def get_overview(self):\n",
    "        return {\n",
    "            \"shape\": self.data.shape,\n",
    "            \"columns\": self.data.columns.tolist(),\n",
    "            \"head\": self.data.head()\n",
    "        }\n",
    "    def get_df(self):\n",
    "        return self.data\n",
    "station_analyzer = StationDataAnalyzer(station_data)\n",
    "overview = station_analyzer.get_overview()\n",
    "\n",
    "\n",
    "overview"
   ]
  },
  {
   "cell_type": "code",
   "execution_count": null,
   "metadata": {},
   "outputs": [],
   "source": [
    "station_analyzer.get_df()"
   ]
  },
  {
   "cell_type": "markdown",
   "metadata": {},
   "source": [
    "- Valores Ausentes:\n",
    "Não há valores ausentes em nenhuma das colunas (ID_ESTACAO, TX_PREFIXO, TX_NOME, CD_ESTACAO_BU).\n",
    "\n",
    "- Tipos de Dados:\n",
    "As colunas ID_ESTACAO e CD_ESTACAO_BU são do tipo int64, representando identificadores numéricos.\n",
    "As colunas TX_PREFIXO e TX_NOME são do tipo object, representando dados textuais.\n",
    "\n",
    "- Prefixos e Nomes Únicos:\n",
    "Existem 97 prefixos únicos de estações, o que sugere que cada estação tem um identificador único.\n",
    "Existem também 97 nomes de estações únicos, mostrando que os nomes não se repetem, o que facilita a identificação individual de cada estação.\n",
    "\n",
    "- Os dados estão bem organizados e sem valores ausentes, permitindo uma análise detalhada de prefixos e nomes das estações. A unicidade dos prefixos e nomes sugere que cada estação tem uma identidade única no sistema. Isso pode ser útil para análises que envolvam geolocalização ou mapeamento de rotas e intervalos entre as estações."
   ]
  },
  {
   "cell_type": "code",
   "execution_count": null,
   "metadata": {},
   "outputs": [],
   "source": [
    "missing_values = station_data.isnull().sum()\n",
    "print(\"Valores ausentes por coluna:\")\n",
    "print(missing_values)\n",
    "\n",
    "print(\"\\nTipos de dados de cada coluna:\")\n",
    "print(station_data.dtypes)\n",
    "\n",
    "unique_prefixes = station_data['TX_PREFIXO'].unique()\n",
    "unique_names = station_data['TX_NOME'].unique()\n",
    "\n",
    "print(f\"\\nTotal de prefixos únicos: {len(unique_prefixes)}\")\n",
    "print(f\"Prefixos únicos: {unique_prefixes}\")\n",
    "\n",
    "print(f\"\\nTotal de nomes de estações únicos: {len(unique_names)}\")\n",
    "print(f\"Nomes de estações únicos (primeiros 10): {unique_names[:10]}\")\n"
   ]
  },
  {
   "cell_type": "markdown",
   "metadata": {},
   "source": [
    "### DMO_ANL_VW_INTERVALOS_DIA.csv"
   ]
  },
  {
   "cell_type": "markdown",
   "metadata": {},
   "source": [
    "Esta célula é responsável por carregar os dados de um arquivo CSV contendo informações sobre estações. O arquivo DMO_ANL_VW_INTERVALOS_DIA.csv é lido e transformado em um DataFrame do Pandas."
   ]
  },
  {
   "cell_type": "code",
   "execution_count": null,
   "metadata": {},
   "outputs": [],
   "source": [
    "class DataLoader:\n",
    "    def __init__(self, file_path):\n",
    "        self.file_path = file_path\n",
    "        self.data = None\n",
    "    \n",
    "    def load_data(self):\n",
    "        self.data = pd.read_csv(self.file_path)\n",
    "        return self.data\n",
    "\n",
    "intervals_loader = DataLoader('DMO_ANL_VW_INTERVALOS_DIA.csv')\n",
    "intervals_data = intervals_loader.load_data()"
   ]
  },
  {
   "cell_type": "markdown",
   "metadata": {},
   "source": [
    "Estrutura dos Dados:\n",
    "\n",
    "- O DataFrame contém 96 linhas e 4 colunas: DT_HORA_MINUTO, ID_DT_HORA_MINUTO, HORA_INI, HORA_FIM.\n",
    "\n",
    "- Colunas:\n",
    "    - DT_HORA_MINUTO representa a data e hora específica de cada intervalo.\n",
    "    - ID_DT_HORA_MINUTO é um identificador único para cada registro.\n",
    "    - HORA_INI e HORA_FIM indicam o horário de início e término de cada intervalo."
   ]
  },
  {
   "cell_type": "code",
   "execution_count": null,
   "metadata": {},
   "outputs": [],
   "source": [
    "class IntervalDataAnalyzer:\n",
    "    def __init__(self, data):\n",
    "        self.data = data\n",
    "    \n",
    "    def get_overview(self):\n",
    "        return {\n",
    "            \"shape\": self.data.shape,\n",
    "            \"columns\": self.data.columns.tolist(),\n",
    "            \"head\": self.data.head()\n",
    "        }\n",
    "    \n",
    "    def get_df(self):\n",
    "        return self.data\n",
    "\n",
    "intervals_analyzer = IntervalDataAnalyzer(intervals_data)\n",
    "intervals_overview = intervals_analyzer.get_overview()\n",
    "intervals_overview"
   ]
  },
  {
   "cell_type": "code",
   "execution_count": null,
   "metadata": {},
   "outputs": [],
   "source": [
    "intervals_analyzer.get_df()"
   ]
  },
  {
   "cell_type": "markdown",
   "metadata": {},
   "source": [
    "- Valores Ausentes:\n",
    "Nenhuma coluna apresenta valores ausentes, o que é positivo para a continuidade das análises, pois não será necessário tratamento de dados faltantes.\n",
    "\n",
    "- Tipos de Dados:\n",
    "    - A coluna DT_HORA_MINUTO é do tipo object, indicando que a data e hora estão sendo tratadas como texto, o que pode ser ajustado para datetime para facilitar cálculos temporais futuros.\n",
    "    - As colunas HORA_INI e ID_DT_HORA_MINUTO são numéricas, com int64, o que está de acordo com suas funções de identificação e referência horária.\n",
    "    - A coluna HORA_FIM está corretamente formatada como datetime64, permitindo operações temporais, como o cálculo de durações.\n",
    "    - A coluna DURATION_MINUTES é do tipo float64, o que é esperado, já que contém durações calculadas em minutos com casas decimais."
   ]
  },
  {
   "cell_type": "code",
   "execution_count": null,
   "metadata": {},
   "outputs": [],
   "source": [
    "missing_values = intervals_data.isnull().sum()\n",
    "print(\"Valores ausentes por coluna:\")\n",
    "print(missing_values)\n",
    "\n",
    "print(\"\\nTipos de dados de cada coluna:\")\n",
    "print(intervals_data.dtypes)"
   ]
  },
  {
   "cell_type": "markdown",
   "metadata": {},
   "source": [
    "- Conversão de HORA_INI e HORA_FIM:\n",
    "As colunas HORA_INI e HORA_FIM foram convertidas para o formato datetime, facilitando o cálculo da duração dos intervalos em unidades de tempo.\n",
    "\n",
    "- Cálculo e Correção da Duração\n",
    "A coluna DURATION_MINUTES foi criada ao calcular a diferença entre HORA_FIM e HORA_INI, inicialmente em segundos.\n",
    "Essa duração foi então ajustada para o valor correto em minutos, dividindo o resultado conforme necessário para corrigir qualquer multiplicação acidental nos cálculos anteriores.\n",
    "\n",
    "- A adição da coluna DURATION_MINUTES permite uma análise precisa da duração de cada intervalo. Esse cálculo é essencial para identificar padrões de tempo, como possíveis flutuações na duração dos intervalos ao longo do dia."
   ]
  },
  {
   "cell_type": "code",
   "execution_count": null,
   "metadata": {},
   "outputs": [],
   "source": [
    "intervals_data['HORA_INI'] = pd.to_datetime(intervals_data['HORA_INI'], format='%H:%M:%S')\n",
    "intervals_data['HORA_FIM'] = pd.to_datetime(intervals_data['HORA_FIM'], format='%H:%M:%S')\n",
    "\n",
    "intervals_data['DURATION_MINUTES'] = (intervals_data['HORA_FIM'] - intervals_data['HORA_INI']).dt.total_seconds() / 6\n",
    "\n",
    "intervals_data['DURATION_MINUTES'] = intervals_data['DURATION_MINUTES'] / 10"
   ]
  },
  {
   "cell_type": "markdown",
   "metadata": {},
   "source": [
    "O gráfico abaixo mostra a variação da duração média dos intervalos ao longo das 24 horas do dia. O comportamento observado é o seguinte:\n",
    "\n",
    "- Queda Inicial:\n",
    "Logo após a primeira hora do dia (00:00), há uma queda acentuada de 15.0 minutos para aproximadamente 14.98 minutos, o que pode indicar uma mudança no padrão de intervalos durante o início da madrugada.\n",
    "\n",
    "- Estabilidade:\n",
    "Entre as horas seguintes (02:00 até 21:00), a duração dos intervalos permanece praticamente estável, oscilando em torno de 14.983 minutos. Isso sugere uma uniformidade nos intervalos ao longo do dia, possivelmente refletindo um padrão operacional constante.\n",
    "\n",
    "- Queda Final:\n",
    "Próximo ao final do dia (após as 22:00), há uma nova queda, atingindo o valor mínimo de 14.966 minutos. Essa variação pode refletir ajustes nas operações ou mudanças de turno.\n",
    "\n",
    "- O comportamento estável durante a maior parte do dia indica que o sistema mantém intervalos consistentes, com algumas variações nos períodos de início e final do dia. Esses padrões podem ser utilizados para otimizar o planejamento e operação de intervalos, especialmente nas transições entre os diferentes períodos do dia."
   ]
  },
  {
   "cell_type": "code",
   "execution_count": null,
   "metadata": {},
   "outputs": [],
   "source": [
    "hourly_duration_mean_values = np.array([15.0, 14.98333333, 14.98333333, 14.98333333, 14.98333333,\n",
    "       14.98333333, 14.98333333, 14.98333333, 14.98333333, 14.98333333,\n",
    "       14.98333333, 14.98333333, 14.98333333, 14.98333333, 14.98333333,\n",
    "       14.98333333, 14.98333333, 14.98333333, 14.98333333, 14.98333333,\n",
    "       14.98333333, 14.98333333, 14.98333333, 14.98333333, 14.98333333,\n",
    "       14.98333333, 14.98333333, 14.98333333, 14.98333333, 14.98333333,\n",
    "       14.98333333, 14.98333333, 14.98333333, 14.98333333, 14.98333333,\n",
    "       14.98333333, 14.98333333, 14.98333333, 14.98333333, 14.98333333,\n",
    "       14.98333333, 14.98333333, 14.98333333, 14.98333333, 14.98333333,\n",
    "       14.98333333, 14.98333333, 14.98333333, 14.98333333, 14.98333333,\n",
    "       14.98333333, 14.98333333, 14.98333333, 14.98333333, 14.98333333,\n",
    "       14.98333333, 14.98333333, 14.98333333, 14.98333333, 14.98333333,\n",
    "       14.98333333, 14.98333333, 14.98333333, 14.98333333, 14.98333333,\n",
    "       14.98333333, 14.98333333, 14.98333333, 14.98333333, 14.98333333,\n",
    "       14.98333333, 14.98333333, 14.98333333, 14.98333333, 14.98333333,\n",
    "       14.98333333, 14.98333333, 14.98333333, 14.98333333, 14.98333333,\n",
    "       14.98333333, 14.98333333, 14.98333333, 14.98333333, 14.98333333,\n",
    "       14.98333333, 14.98333333, 14.98333333, 14.98333333, 14.98333333,\n",
    "       14.98333333, 14.98333333, 14.98333333, 14.98333333, 14.98333333,\n",
    "       14.96666667])\n",
    "\n",
    "hours = np.arange(96)\n",
    "\n",
    "plt.figure(figsize=(10, 6))\n",
    "plt.plot(hours, hourly_duration_mean_values, marker='o', linestyle='-', color='b') \n",
    "plt.title('Variação da Duração dos Intervalos ao Longo do Dia')\n",
    "plt.xlabel('Hora do Dia')\n",
    "plt.ylabel('Duração Média dos Intervalos (minutos)')\n",
    "plt.ylim(hourly_duration_mean_values.min() - 0.01, hourly_duration_mean_values.max() + 0.01)  \n",
    "plt.xticks(range(96)) \n",
    "plt.grid(True)\n",
    "plt.tight_layout()\n",
    "\n",
    "plt.show()\n"
   ]
  },
  {
   "cell_type": "markdown",
   "metadata": {},
   "source": [
    "- Outliers:\n",
    "    - Um outlier com valor mais baixo (~14.965 minutos).\n",
    "    - Um outlier com valor mais alto (15.0 minutos).\n",
    "\n",
    "A presença de outliers, embora pequena, pode indicar eventos específicos ou inconsistências que merecem investigação. Estes outliers podem impactar o desempenho operacional e devem ser monitorados, especialmente se ocorrerem em momentos críticos do dia ou em horários de alta demanda."
   ]
  },
  {
   "cell_type": "code",
   "execution_count": null,
   "metadata": {},
   "outputs": [],
   "source": [
    "Q1 = intervals_data['DURATION_MINUTES'].quantile(0.25)\n",
    "Q3 = intervals_data['DURATION_MINUTES'].quantile(0.75)\n",
    "IQR = Q3 - Q1\n",
    "\n",
    "lower_bound = Q1 - 1.5 * IQR\n",
    "upper_bound = Q3 + 1.5 * IQR\n",
    "\n",
    "outliers = intervals_data[(intervals_data['DURATION_MINUTES'] < lower_bound) | (intervals_data['DURATION_MINUTES'] > upper_bound)]\n",
    "\n",
    "plt.figure(figsize=(10, 6))\n",
    "plt.boxplot(intervals_data['DURATION_MINUTES'], vert=False)\n",
    "plt.title('Boxplot da Duração dos Intervalos com Outliers')\n",
    "plt.xlabel('Duração dos Intervalos (minutos)')\n",
    "plt.grid(True)\n",
    "plt.show()"
   ]
  },
  {
   "cell_type": "markdown",
   "metadata": {},
   "source": [
    "## Salvar em .parquet"
   ]
  },
  {
   "cell_type": "code",
   "execution_count": null,
   "metadata": {},
   "outputs": [],
   "source": [
    "from services.parquet import Conversor\n",
    "\n",
    "# Instancia o conversor de Parquet\n",
    "conversor = Conversor()\n",
    "\n",
    "# Converte e salva os DataFrames para o formato Parquet\n",
    "conversor.df_to_parquet(station_analyzer.get_df(), \"./estacao.parquet\")\n",
    "conversor.df_to_parquet(intervals_analyzer.get_df(), \"./intervalos.parquet\")\n"
   ]
  },
  {
   "cell_type": "markdown",
   "metadata": {},
   "source": [
    "## Enviar para o s3"
   ]
  },
  {
   "cell_type": "code",
   "execution_count": null,
   "metadata": {},
   "outputs": [],
   "source": [
    "from services.aws_conn import AwsConn\n",
    "\n",
    "# Instancia a conexão AWS\n",
    "aws_conn = AwsConn()\n",
    "\n",
    "# Envia os arquivos Parquet para o S3\n",
    "aws_conn.send_to_s3(\"estacao.parquet\", \"big-data-DMO-ANL\", \"estacao.parquet\")\n"
   ]
  },
  {
   "cell_type": "code",
   "execution_count": null,
   "metadata": {},
   "outputs": [],
   "source": [
    "aws_conn.send_to_s3(\"intervalos.parquet\", \"big-data-DMO-ANL\", \"intervalos.parquet\")\n"
   ]
  }
 ],
 "metadata": {
  "kernelspec": {
   "display_name": "src-ZDqttA33-py3.12",
   "language": "python",
   "name": "python3"
  },
  "language_info": {
   "codemirror_mode": {
    "name": "ipython",
    "version": 3
   },
   "file_extension": ".py",
   "mimetype": "text/x-python",
   "name": "python",
   "nbconvert_exporter": "python",
   "pygments_lexer": "ipython3",
   "version": "3.12.3"
  }
 },
 "nbformat": 4,
 "nbformat_minor": 2
}
